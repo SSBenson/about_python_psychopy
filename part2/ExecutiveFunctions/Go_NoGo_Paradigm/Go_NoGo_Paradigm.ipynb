{
 "cells": [
  {
   "cell_type": "markdown",
   "metadata": {},
   "source": [
    "# Go/no go paradigm"
   ]
  },
  {
   "cell_type": "markdown",
   "metadata": {},
   "source": [
    "* 어바웃 파이썬 : 겨울방학 특강 - PsychoPy (1, 2)\n",
    "* 김무성     "
   ]
  },
  {
   "cell_type": "markdown",
   "metadata": {},
   "source": [
    "#### 참고\n",
    "* Created by Krisztina Peres\n",
    "* Date of creation: 2013.06.19.\n",
    "* Experiment software: PsychoPy\n",
    "* Estimated running time: 2-5 minute\n",
    "* Reference for the original experiment: Miller, J., Schäffer, R., and Hackley, S. A. (1991). Effects of preliminary information in a Go versus No-go task. Acta psychologica, 76(3), 241-92. Retrieved from http://www.ncbi.nlm.nih.gov/pubmed/1927576\n",
    "\n",
    "다음 사이트의 자료를 기반으로 작성됨. ()는 레퍼런스 번호, []는 원래 자료의 레퍼런스 번호.\n",
    "* (1) (영어버전) Cognitive Psychology Experiments Demonstrations - http://www.tankonyvtar.hu/hu/tartalom/tamop412A/2011-0018_08_kiserletek/adatok.html\n",
    "* (2) (원래 사이트, 소스코드 있음) Kognitív gyakorlatok - https://sites.google.com/site/kognitivgyakorlatok/"
   ]
  },
  {
   "cell_type": "markdown",
   "metadata": {},
   "source": [
    "# 차례\n",
    "* 준비단계\n",
    "* 실행방법\n",
    "* 내용 소개\n",
    "* 소스 분석"
   ]
  },
  {
   "cell_type": "markdown",
   "metadata": {},
   "source": [
    "# 준비단계\n",
    "\n",
    "## 필요한 파일들\n",
    "* analyze_log.py \n",
    "* go_nogo.py"
   ]
  },
  {
   "cell_type": "code",
   "execution_count": null,
   "metadata": {},
   "outputs": [],
   "source": [
    "%ls"
   ]
  },
  {
   "cell_type": "markdown",
   "metadata": {},
   "source": [
    "# 실행방법"
   ]
  },
  {
   "cell_type": "markdown",
   "metadata": {},
   "source": [
    "### 실행 방법 1 \n",
    "콘솔창을 열어서 \n",
    "\n",
    "```\n",
    "python go_nogo.py\n",
    "```\n",
    "\n",
    "그리고\n",
    "```\n",
    "python analyze_log.py\n",
    "```"
   ]
  },
  {
   "cell_type": "markdown",
   "metadata": {},
   "source": [
    "### 실행 방법 2"
   ]
  },
  {
   "cell_type": "code",
   "execution_count": null,
   "metadata": {},
   "outputs": [],
   "source": [
    "# 노트북에서 직접 실행\n",
    "!python go_nogo.py"
   ]
  },
  {
   "cell_type": "code",
   "execution_count": null,
   "metadata": {},
   "outputs": [],
   "source": [
    "%ls"
   ]
  },
  {
   "cell_type": "code",
   "execution_count": null,
   "metadata": {
    "collapsed": true
   },
   "outputs": [],
   "source": [
    "import pandas as pd"
   ]
  },
  {
   "cell_type": "code",
   "execution_count": null,
   "metadata": {
    "collapsed": true
   },
   "outputs": [],
   "source": [
    "df = pd.read_csv(\"1_go_nogo.csv\")"
   ]
  },
  {
   "cell_type": "code",
   "execution_count": null,
   "metadata": {},
   "outputs": [],
   "source": [
    "df.head()"
   ]
  },
  {
   "cell_type": "code",
   "execution_count": null,
   "metadata": {
    "collapsed": true
   },
   "outputs": [],
   "source": [
    "import analyze_log"
   ]
  },
  {
   "cell_type": "code",
   "execution_count": null,
   "metadata": {},
   "outputs": [],
   "source": [
    "file_name = \"1_go_nogo.csv\"\n",
    "analyze_log.analyze_log (filename=file_name, \n",
    "                         indep_var='color', dep_var='error', function='mean',\n",
    "                         graph_types=['bar'])"
   ]
  },
  {
   "cell_type": "code",
   "execution_count": null,
   "metadata": {},
   "outputs": [],
   "source": [
    "%ls"
   ]
  },
  {
   "cell_type": "code",
   "execution_count": null,
   "metadata": {
    "collapsed": true
   },
   "outputs": [],
   "source": [
    "df2 = pd.read_csv(\"1_go_nogo.csv_result.txt\")"
   ]
  },
  {
   "cell_type": "code",
   "execution_count": null,
   "metadata": {},
   "outputs": [],
   "source": [
    "df2"
   ]
  },
  {
   "cell_type": "markdown",
   "metadata": {},
   "source": [
    "# 내용 소개\n",
    "* Theoretical background\n",
    "* Procedure\n",
    "* Expected results"
   ]
  },
  {
   "cell_type": "markdown",
   "metadata": {},
   "source": [
    "#### 참고\n",
    "* (3) Go/no go (Wikipedia) - https://en.wikipedia.org/wiki/Go/no_go#Psychology"
   ]
  },
  {
   "cell_type": "markdown",
   "metadata": {},
   "source": [
    "## Theoretical background"
   ]
  },
  {
   "cell_type": "markdown",
   "metadata": {},
   "source": [
    "The go/no-go paradigm is a selective reaction test, in which participants have to respond only to one of the two alternative stimuli (the go stimulus), while the participant shouldn’t respond to the other stimulus (the no-go stimulus). Donders was the first to use this paradigm. He measured the speed of mental processes (Donders, 1969)[9]. According to his subtraction method, selective reaction time (deciding about response depending on the stimuli) takes longer than a simple reaction time, because besides perceptual analysis and response execution, there is a third stage in selective reaction task: response selection/decision stage (Miller, Schäffer, and Hackley, 1991)[10].\n",
    "<br><구글번역 : \n",
    "go/no-go 패러다임은 참여자가 두 가지 대안 자극 중 하나 (고 자극)에 대해서만 응답해야하는 반면 참여자는 다른 자극에 반응해서는 안되는 선택적 반응 테스트입니다 ). Donders는 이 패러다임을 처음으로 사용했습니다. 그는 정신적 과정의 속도를 측정했다 (Donders, 1969) [9]. 그의 감산 방법에 따르면, 지각 분석과 반응 실행 외에도 선택 반응 과제의 세 번째 단계가 있기 때문에 선택 반응 시간 (자극에 따라 반응을 결정하는 데 걸리는 시간)이 간단한 반응 시간보다 오래 걸립니다. 응답 선택 / 결정 단계 ( Miller, Schäffer, and Hackley, 1991) [10].>\n",
    "\n",
    "Nowadays go/no-go task is generally used to measure inhibition processes, because participants have to withhold response, when a no-go stimulus is presented, what requires inhibition control. The index of inhibitory control is the probability of executing a response on a no-go trial (ratio of false alarms) and reaction time difference between the no-go response and the to go response (Verbruggen and Logan, 2008)[11].\n",
    "<br><구글 번역 + 의역: 요즘 go/no-go 작업은 일반적으로 제어 프로세스를 측정하는 데 사용됩니다. 참가자는 응답을 보류해야하므로 no-go 자극이 표시되고 억제 제어가 필요한 것입니다. 억제 제어(inhibitory control)의 지표는 1) no-go trial (false alarm의 비율)에서의 응답 버튼을 누를 확률과, 2) no-go response와 to go response 사이의 반응 시간 차이이다. (Verbruggen and Logan, 2008) [11].>"
   ]
  },
  {
   "cell_type": "markdown",
   "metadata": {},
   "source": [
    "<img src=\"https://ars.els-cdn.com/content/image/1-s2.0-S0926641003001447-gr1.jpg\" width=600 />"
   ]
  },
  {
   "cell_type": "markdown",
   "metadata": {},
   "source": [
    "<img src=\"https://ars.els-cdn.com/content/image/1-s2.0-S221315821300137X-gr1.jpg\" width=600 />"
   ]
  },
  {
   "cell_type": "markdown",
   "metadata": {},
   "source": [
    "## Procedure"
   ]
  },
  {
   "cell_type": "markdown",
   "metadata": {},
   "source": [
    "The present demonstration is based on the experiment of Miller, Schäffer, and Hackley (1991), but without preliminary cue stimuli. In the demonstration there are two types of stimuli: a green circle and a blue circle. Participants have to respond only to the green circle.\n",
    "<br><구글 번역 : 현재의 시연은 Miller, Schäffer, and Hackley (1991)의 실험에 기초하지만 예비 큐 자극은 없다. 데모에는 두 가지 유형의 자극이 있습니다. 녹색 원과 파란색 원입니다. 참가자는 녹색 원에만 응답해야합니다.>\n",
    "\n",
    "200 ms before the stimulus onset there is a fixation cross on the screen. Then, a green or blue circle appears, visible for 700 ms or until response. Interstimulus interval is 300 ms (+200 ms fixation cross).\n",
    "<br><구글 번역 : 자극이 나타나기 200 ms 전에 화면에 고정 십자가가 있습니다. 그런 다음 녹색 또는 파란색 원이 나타나고 응답이 나타날 때까지 700ms 동안 표시됩니다. interstimulus 간격은 300 밀리미터 (+200 밀리미터 고정 십자가)입니다.>"
   ]
  },
  {
   "cell_type": "markdown",
   "metadata": {},
   "source": [
    "## Expected results"
   ]
  },
  {
   "cell_type": "markdown",
   "metadata": {},
   "source": [
    "After the end of the demonstration participants can see their error rates for each condition. There are two types of error: false alarms and missing response. For the inhibition control false alarms are more informative than misses.\n",
    "<br><구글 번역 : 데모가 끝나면 참가자는 각 조건에 대한 오류율을 볼 수 있습니다. 오류 유형에는 허위 경보와 누락 된 응답의 두 가지 유형이 있습니다. 억제 제어의 경우 거짓 경보는 미스보다 유익합니다.>"
   ]
  },
  {
   "cell_type": "markdown",
   "metadata": {},
   "source": [
    "# 소스 분석"
   ]
  },
  {
   "cell_type": "markdown",
   "metadata": {},
   "source": [
    "### go_nogo.py"
   ]
  },
  {
   "cell_type": "markdown",
   "metadata": {},
   "source": [
    "#### 라이브러리들"
   ]
  },
  {
   "cell_type": "code",
   "execution_count": null,
   "metadata": {
    "collapsed": true
   },
   "outputs": [],
   "source": [
    "# -*- coding: utf-8 -*-\n",
    "# Imports\n",
    "from psychopy import visual, core, event, gui\n",
    "#import analyze_log, \n",
    "import random"
   ]
  },
  {
   "cell_type": "markdown",
   "metadata": {},
   "source": [
    "------------------------------"
   ]
  },
  {
   "cell_type": "markdown",
   "metadata": {},
   "source": [
    "#### 윈도우 생성 "
   ]
  },
  {
   "cell_type": "code",
   "execution_count": null,
   "metadata": {},
   "outputs": [],
   "source": [
    "win = visual.Window([1366,768], allowGUI=True, fullscr=False, waitBlanking=True, monitor='testMonitor', units='deg') # Create window\n",
    "\n",
    "win.flip() # 윈도우 생성\n",
    "core.wait(0.5) # 잠시 멈추기\n",
    "\n",
    "win.close() # 윈도우 닫기"
   ]
  },
  {
   "cell_type": "markdown",
   "metadata": {},
   "source": [
    "------------------------------"
   ]
  },
  {
   "cell_type": "markdown",
   "metadata": {},
   "source": [
    "#### 안내문 제시하기 "
   ]
  },
  {
   "cell_type": "code",
   "execution_count": null,
   "metadata": {},
   "outputs": [],
   "source": [
    "\"In the following task you will see a green and a blue circle.\\n\\nYou have to press key 'space' just in the case, when you see the green circle.\\nDon't do anything, when you see the blue circle!\""
   ]
  },
  {
   "cell_type": "code",
   "execution_count": null,
   "metadata": {},
   "outputs": [],
   "source": [
    "# -- 코딩\n"
   ]
  },
  {
   "cell_type": "markdown",
   "metadata": {},
   "source": [
    "------------------------------"
   ]
  },
  {
   "cell_type": "markdown",
   "metadata": {},
   "source": [
    "#### 실험 조건에 따라 안내문 제시하기 "
   ]
  },
  {
   "cell_type": "code",
   "execution_count": null,
   "metadata": {
    "collapsed": true
   },
   "outputs": [],
   "source": [
    "#'participant':'participant_ID'\n",
    "#'language': 'en' or 'kr'\n",
    "exp_info = {}\n",
    "\n",
    "# -- 코딩"
   ]
  },
  {
   "cell_type": "code",
   "execution_count": null,
   "metadata": {
    "collapsed": true
   },
   "outputs": [],
   "source": [
    "# Language specific components\n",
    "def _(string):\n",
    "    # You should use texts dictionary to strore the strings, and set exp_info['language'] to specify the language\n",
    "    return texts[string][exp_info['language']]\n",
    "\n",
    "texts = {\n",
    "    'instr':\n",
    "        {'en':\"In the following task you will see a green and a blue circle.\\n\\nYou have to press key 'space' just in the case, when you see the green circle.\\nDon't do anything, when you see the blue circle!\",\n",
    "        'kr':u\"다음 작업에서는 녹색과 파란색 원이 표시됩니다.\\n\\n사례에서 녹색 원이 표시되면 '스페이스'키를 눌러야합니다. \\n파란색 원이 표시되면 아무 것도하지 마십시오.!\"},\n",
    "}"
   ]
  },
  {
   "cell_type": "code",
   "execution_count": null,
   "metadata": {},
   "outputs": [],
   "source": [
    "# -- 코딩\n"
   ]
  },
  {
   "cell_type": "markdown",
   "metadata": {},
   "source": [
    "------------------------------"
   ]
  },
  {
   "cell_type": "markdown",
   "metadata": {},
   "source": [
    "#### 설정박스로 설정을 받아서 안내문 제시하기"
   ]
  },
  {
   "cell_type": "code",
   "execution_count": null,
   "metadata": {},
   "outputs": [],
   "source": [
    "# -- 코딩\n",
    "\n",
    "# Setting some parameters on GUI\n",
    "dlg = gui.DlgFromDict(exp_info, title='Go-Nogo',\n",
    "   order = ['participant', 'language'],\n",
    "    tip = {'participant':'Identifier of the participant.',\n",
    "        'language':'Language of the instructions.',})\n",
    "if not dlg.OK:\n",
    "    print 'User Cancelled'\n",
    "    core.quit()\n",
    "    "
   ]
  },
  {
   "cell_type": "markdown",
   "metadata": {},
   "source": [
    "------------------------------"
   ]
  },
  {
   "cell_type": "markdown",
   "metadata": {},
   "source": [
    "#### + 자극 제시 후 시각 자극 하나 뿌리기"
   ]
  },
  {
   "cell_type": "code",
   "execution_count": null,
   "metadata": {},
   "outputs": [],
   "source": [
    "# -- 코딩\n",
    "\n",
    "# Stimuli\n",
    "# + 자극 \n",
    "fix_cross = visual.TextStim(win, text=\"+\", pos=(0,0), height=1, color='black')\n",
    "# 원 자극 \n",
    "stimulus = visual.Circle(win, radius=2, edges=32)\n",
    "\n",
    "# 색  \n",
    "color_stim = 'green'\n",
    "\n",
    "# + 자극 제시\n",
    "\n",
    "# 색있는 원 자극 제시"
   ]
  },
  {
   "cell_type": "markdown",
   "metadata": {},
   "source": [
    "-------------------------------"
   ]
  },
  {
   "cell_type": "markdown",
   "metadata": {},
   "source": [
    "#### 시각 랜덤하게 연속으로 뿌리기"
   ]
  },
  {
   "cell_type": "code",
   "execution_count": null,
   "metadata": {},
   "outputs": [],
   "source": [
    "# -- 코딩\n",
    "\n",
    "# 무선화된 색 배열 : green 10개, blue 10개 \n",
    "\n",
    "for color_stim in stimuli:\n",
    "    # + 자극 제시\n",
    "\n",
    "    # 자극 제시\n",
    "    "
   ]
  },
  {
   "cell_type": "markdown",
   "metadata": {},
   "source": [
    "-----------------------"
   ]
  },
  {
   "cell_type": "markdown",
   "metadata": {},
   "source": [
    "#### 반응을 키보드로 입력받기"
   ]
  },
  {
   "cell_type": "code",
   "execution_count": null,
   "metadata": {},
   "outputs": [],
   "source": [
    "# -- 코딩"
   ]
  },
  {
   "cell_type": "markdown",
   "metadata": {},
   "source": [
    "-----------------------"
   ]
  },
  {
   "cell_type": "markdown",
   "metadata": {},
   "source": [
    "#### 반응 시간을 측정하고, 지금까지의 사용자 행동 데이터를 로그 파일에 기록하기 "
   ]
  },
  {
   "cell_type": "code",
   "execution_count": null,
   "metadata": {},
   "outputs": [],
   "source": [
    "# -- 코딩"
   ]
  },
  {
   "cell_type": "markdown",
   "metadata": {},
   "source": [
    "# 참고자료\n",
    "* (1) (영어버전) Cognitive Psychology Experiments Demonstrations - http://www.tankonyvtar.hu/hu/tartalom/tamop412A/2011-0018_08_kiserletek/adatok.html\n",
    "* (2) (원래 사이트, 소스코드 있음) Kognitív gyakorlatok - https://sites.google.com/site/kognitivgyakorlatok/\n",
    "* (3) Go/no go (Wikipedia) - https://en.wikipedia.org/wiki/Go/no_go#Psychology"
   ]
  }
 ],
 "metadata": {
  "kernelspec": {
   "display_name": "Python 2",
   "language": "python",
   "name": "python2"
  },
  "language_info": {
   "codemirror_mode": {
    "name": "ipython",
    "version": 2
   },
   "file_extension": ".py",
   "mimetype": "text/x-python",
   "name": "python",
   "nbconvert_exporter": "python",
   "pygments_lexer": "ipython2",
   "version": "2.7.13"
  }
 },
 "nbformat": 4,
 "nbformat_minor": 2
}
