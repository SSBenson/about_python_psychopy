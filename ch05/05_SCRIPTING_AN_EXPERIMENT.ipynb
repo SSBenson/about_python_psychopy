{
 "cells": [
  {
   "cell_type": "markdown",
   "metadata": {},
   "source": [
    "# 5. SCRIPTING AN EXPERIMENT"
   ]
  },
  {
   "cell_type": "markdown",
   "metadata": {},
   "source": [
    "* 어바웃 파이썬 : 9월 - PsychoPy [1]\n",
    "* 김무성"
   ]
  },
  {
   "cell_type": "markdown",
   "metadata": {},
   "source": [
    "# Contents\n",
    "* Constants \n",
    "* Creating Screens \n",
    "* Instructions Screen \n",
    "* A single trial\n",
    "* For loop \n",
    "* Logging values \n",
    "* Display timing \n",
    "* Randomisation\n",
    "* Make some noise"
   ]
  },
  {
   "cell_type": "markdown",
   "metadata": {},
   "source": [
    "#### 준비단계 \n",
    "* ../ 폴더의 setup.ipynb 실행한 후"
   ]
  },
  {
   "cell_type": "code",
   "execution_count": 1,
   "metadata": {},
   "outputs": [
    {
     "name": "stdout",
     "output_type": "stream",
     "text": [
      "05_SCRIPTING_AN_EXPERIMENT.ipynb  \u001b[34mChapter_05\u001b[m\u001b[m/\r\n"
     ]
    }
   ],
   "source": [
    "# 현재 디렉토리 확인 \n",
    "%ls"
   ]
  },
  {
   "cell_type": "code",
   "execution_count": 2,
   "metadata": {},
   "outputs": [
    {
     "name": "stdout",
     "output_type": "stream",
     "text": [
      "\u001b[34mPEP_all-in-one\u001b[m\u001b[m/       all-in-one.zip        new.txt\r\n",
      "README.md             \u001b[34mch03\u001b[m\u001b[m/                 result.txt\r\n",
      "Untitled.ipynb        \u001b[34mch04\u001b[m\u001b[m/                 setup.ipynb\r\n",
      "Untitled1.ipynb       \u001b[34mch05\u001b[m\u001b[m/\r\n",
      "all-in-one (1).zip    hello_psychopy.ipynb\r\n"
     ]
    }
   ],
   "source": [
    "# 실습 관련 책의 코드와 데이터\n",
    "%ls .."
   ]
  },
  {
   "cell_type": "code",
   "execution_count": 3,
   "metadata": {},
   "outputs": [
    {
     "name": "stdout",
     "output_type": "stream",
     "text": [
      "01_Single_trial_PsychoPy.zip      02_Whole_experiment_PsychoPy.zip\r\n",
      "01_Single_trial_PyGaze.zip        02_Whole_experiment_PyGaze.zip\r\n"
     ]
    }
   ],
   "source": [
    "%ls ../PEP_all-in-one/Chapter_05/code/"
   ]
  },
  {
   "cell_type": "code",
   "execution_count": 4,
   "metadata": {
    "collapsed": true
   },
   "outputs": [],
   "source": [
    "# 실습 파일 가져오자\n",
    "%cp -r ../PEP_all-in-one/Chapter_05 ."
   ]
  },
  {
   "cell_type": "code",
   "execution_count": 5,
   "metadata": {},
   "outputs": [
    {
     "name": "stdout",
     "output_type": "stream",
     "text": [
      "05_SCRIPTING_AN_EXPERIMENT.ipynb  \u001b[34mChapter_05\u001b[m\u001b[m/\r\n"
     ]
    }
   ],
   "source": [
    "%ls"
   ]
  },
  {
   "cell_type": "markdown",
   "metadata": {},
   "source": [
    "# Scripts"
   ]
  },
  {
   "cell_type": "code",
   "execution_count": 6,
   "metadata": {},
   "outputs": [
    {
     "name": "stdout",
     "output_type": "stream",
     "text": [
      "/Users/moodern/work/00_aboutpython_psychopy/ch05/Chapter_05/code\n"
     ]
    }
   ],
   "source": [
    "# 작업 디렉토리 이동 \n",
    "%cd Chapter_05/code/"
   ]
  },
  {
   "cell_type": "code",
   "execution_count": 7,
   "metadata": {},
   "outputs": [
    {
     "name": "stdout",
     "output_type": "stream",
     "text": [
      "\u001b[34m01_Single_trial_PsychoPy\u001b[m\u001b[m/         02_Whole_experiment_PsychoPy.zip\r\n",
      "01_Single_trial_PsychoPy.zip      02_Whole_experiment_PyGaze.zip\r\n",
      "01_Single_trial_PyGaze.zip\r\n"
     ]
    }
   ],
   "source": [
    "%ls"
   ]
  },
  {
   "cell_type": "code",
   "execution_count": 8,
   "metadata": {
    "collapsed": true
   },
   "outputs": [],
   "source": [
    "# 압축파일을 풀기위한 패키지\n",
    "import zipfile"
   ]
  },
  {
   "cell_type": "code",
   "execution_count": 9,
   "metadata": {
    "collapsed": true
   },
   "outputs": [],
   "source": [
    "all_zip = zipfile.ZipFile('01_Single_trial_PsychoPy.zip')\n",
    "all_zip.extractall('./')\n",
    "all_zip.close()"
   ]
  },
  {
   "cell_type": "code",
   "execution_count": 10,
   "metadata": {},
   "outputs": [
    {
     "name": "stdout",
     "output_type": "stream",
     "text": [
      "\u001b[34m01_Single_trial_PsychoPy\u001b[m\u001b[m/         02_Whole_experiment_PsychoPy.zip\r\n",
      "01_Single_trial_PsychoPy.zip      02_Whole_experiment_PyGaze.zip\r\n",
      "01_Single_trial_PyGaze.zip\r\n"
     ]
    }
   ],
   "source": [
    "%ls"
   ]
  },
  {
   "cell_type": "code",
   "execution_count": 11,
   "metadata": {},
   "outputs": [
    {
     "name": "stdout",
     "output_type": "stream",
     "text": [
      "/Users/moodern/work/00_aboutpython_psychopy/ch05/Chapter_05/code/01_Single_trial_PsychoPy\n"
     ]
    }
   ],
   "source": [
    "# 작업 디렉토리 이동\n",
    "%cd 01_Single_trial_PsychoPy/"
   ]
  },
  {
   "cell_type": "code",
   "execution_count": 12,
   "metadata": {},
   "outputs": [
    {
     "name": "stdout",
     "output_type": "stream",
     "text": [
      "\u001b[34m__pycache__\u001b[m\u001b[m/   constants.py   experiment.py\r\n"
     ]
    }
   ],
   "source": [
    "%ls"
   ]
  },
  {
   "cell_type": "markdown",
   "metadata": {},
   "source": [
    "### 실행 방법 1. \n",
    "콘솔창을 열어서 \n",
    "python experiment.py  "
   ]
  },
  {
   "cell_type": "markdown",
   "metadata": {},
   "source": [
    "### 실행 방법 2."
   ]
  },
  {
   "cell_type": "code",
   "execution_count": 13,
   "metadata": {},
   "outputs": [
    {
     "name": "stdout",
     "output_type": "stream",
     "text": [
      "1.8717 \tWARNING \tMonitor specification not found. Creating a temporary one...\r\n",
      "1.8931 \tWARNING \tUser requested fullscreen with size [1920 1080], but screen is actually [1280, 800]. Using actual size\r\n"
     ]
    }
   ],
   "source": [
    "# 노트북에서 직접 실행\n",
    "!python experiment.py"
   ]
  },
  {
   "cell_type": "markdown",
   "metadata": {},
   "source": [
    "### 실행 방법 3."
   ]
  },
  {
   "cell_type": "code",
   "execution_count": 14,
   "metadata": {},
   "outputs": [
    {
     "name": "stdout",
     "output_type": "stream",
     "text": [
      "0.6822 \tWARNING \tMonitor specification not found. Creating a temporary one...\n",
      "0.6829 \tWARNING \tUser requested fullscreen with size [1920 1080], but screen is actually [1280, 800]. Using actual size\n"
     ]
    }
   ],
   "source": [
    "from constants import *\n",
    "from psychopy.visual import Window, TextStim, Circle, Rect\n",
    "from psychopy.event import waitKeys\n",
    "from psychopy.core import wait\n",
    "\n",
    "# create a Window to deal with the monitor\n",
    "disp = Window(size=DISPSIZE, units='pix', \\\n",
    "    color=BGC, fullscr=True)\n",
    "\n",
    "# define the instructions\n",
    "instructions = 'Welcome!\\n\\nIn this experiment, Es and Fs \\\n",
    "will appear on either side of the screen. If you see \\\n",
    "an E, press the E key. If you see an F, press F. \\\n",
    "\\n\\nPlease try to be as fast and as accurate as \\\n",
    "possible.\\n\\nGood luck!'\n",
    "# create a new text stimulus\n",
    "inststim = TextStim(disp, text=instructions, color=FGC, height=24)\n",
    "\n",
    "# create a Circle stimulus for fixation purposes\n",
    "fixstim = Circle(disp, radius=6, edges=32, \\\n",
    "    lineColor=FGC, fillColor=FGC)\n",
    "\n",
    "# create the left box\n",
    "lboxstim = Rect(disp, pos=BOXCORS['left'], \\\n",
    "    width=BOXSIZE, height=BOXSIZE, lineColor=FGC, lineWidth=3)\n",
    "# create the right box\n",
    "rboxstim = Rect(disp, pos=BOXCORS['right'], \\\n",
    "    width=BOXSIZE, height=BOXSIZE, lineColor=FGC, lineWidth=3)\n",
    "\n",
    "# create an empty dict to hold both cue stimuli\n",
    "cuestim = {}\n",
    "# create the left box\n",
    "cuestim['left'] = Rect(disp, pos=BOXCORS['left'], \\\n",
    "    width=BOXSIZE, height=BOXSIZE, lineColor=FGC, lineWidth=8)\n",
    "# create the right box\n",
    "cuestim['right'] = Rect(disp, pos=BOXCORS['right'], \\\n",
    "    width=BOXSIZE, height=BOXSIZE, lineColor=FGC, lineWidth=8)\n",
    "\n",
    "# create a dict to contain further dicts to contain target stimuli\n",
    "tarstim = {}\n",
    "tarstim['left'] = {}\n",
    "tarstim['right'] = {}\n",
    "# draw all possible target stimuli\n",
    "tarstim['left']['E'] = TextStim(disp, text='E', pos=BOXCORS['left'],\n",
    "    height=48, color=FGC)\n",
    "tarstim['left']['F'] = TextStim(disp, text='F', pos=BOXCORS['left'],\n",
    "    height=48, color=FGC)\n",
    "tarstim['right']['E'] = TextStim(disp, text='E', pos=BOXCORS['right'],\n",
    "    height=48, color=FGC)\n",
    "tarstim['right']['F'] = TextStim(disp, text='F', pos=BOXCORS['right'],\n",
    "    height=48, color=FGC)\n",
    "\n",
    "# create a dict to hold two feedback stimuli\n",
    "fbstim = {}\n",
    "# draw the incorrect feedback (evil red letters!)\n",
    "fbstim[0] = TextStim(disp, text='Incorrect!', height=24, \\\n",
    "    color=(1, -1, -1))\n",
    "# draw the correct feedback (nice and green)\n",
    "fbstim[1] = TextStim(disp, text='Correct!', height=24, \\\n",
    "    color=(-1, 1, -1))\n",
    "\n",
    "# present the instructions\n",
    "inststim.draw()\n",
    "disp.flip()\n",
    "# wait for any old keypress\n",
    "waitKeys(maxWait=float('inf'), keyList=None, timeStamped=True)\n",
    "\n",
    "# draw the fixation mark, and the left and right boxes\n",
    "fixstim.draw()\n",
    "lboxstim.draw()\n",
    "rboxstim.draw()\n",
    "# update the monitor\n",
    "fixonset = disp.flip()\n",
    "# wait for a bit\n",
    "wait(FIXTIME)\n",
    "\n",
    "# draw the fixation mark, and the left and right boxes\n",
    "fixstim.draw()\n",
    "lboxstim.draw()\n",
    "rboxstim.draw()\n",
    "# draw a cue\n",
    "cuestim['left'].draw()\n",
    "# update the monitor\n",
    "cueonset = disp.flip()\n",
    "# wait for a little bit\n",
    "wait(CUETIME)\n",
    "\n",
    "# draw the fixation mark, and the left and right boxes\n",
    "fixstim.draw()\n",
    "lboxstim.draw()\n",
    "rboxstim.draw()\n",
    "# update the monitor\n",
    "cueoffset = disp.flip()\n",
    "# wait for the SOA minus the cue duration\n",
    "wait(0.1 - CUETIME)\n",
    "\n",
    "# draw the fixation mark, and the left and right boxes\n",
    "fixstim.draw()\n",
    "lboxstim.draw()\n",
    "rboxstim.draw()\n",
    "# draw a target stimulus\n",
    "tarstim['right']['E'].draw()\n",
    "# update the monitor\n",
    "taronset = disp.flip()\n",
    "\n",
    "# wait for a response\n",
    "resplist = waitKeys(maxWait=float('inf'), keyList=['e','f'], \\\n",
    "    timeStamped=True)\n",
    "# select the first response from the response list\n",
    "response, presstime = resplist[0]\n",
    "# turn the lowercase response into uppercase\n",
    "response = response.upper()\n",
    "\n",
    "# check if the response was correct\n",
    "if response == 'E':\n",
    "    correct = 1\n",
    "else:\n",
    "    correct = 0\n",
    "\n",
    "# calculate the reaction time\n",
    "RT = presstime - taronset\n",
    "\n",
    "# show the appropriate feedback stimulus\n",
    "fbstim[correct].draw()\n",
    "disp.flip()\n",
    "# wait for a bit to allow the participant to see the feedback\n",
    "wait(FEEDBACKTIME)\n",
    "\n",
    "# shut down the experiment\n",
    "disp.close()\n"
   ]
  },
  {
   "cell_type": "markdown",
   "metadata": {
    "collapsed": true
   },
   "source": [
    "# 참고자료\n",
    "* [1] Python for Experimental Psychologists - https://www.amazon.com/Python-Experimental-Psychologists-Edwin-Dalmaijer/dp/1138671576\n",
    "* [2] 책 정보 & 코드 - http://www.pygaze.org/pep/\n",
    "* [3] 코드 한번에 받기 - http://www.pygaze.org/resources/downloads/PEP/all-in-one.zip\n",
    "    "
   ]
  }
 ],
 "metadata": {
  "kernelspec": {
   "display_name": "Python 2",
   "language": "python",
   "name": "python2"
  },
  "language_info": {
   "codemirror_mode": {
    "name": "ipython",
    "version": 2
   },
   "file_extension": ".py",
   "mimetype": "text/x-python",
   "name": "python",
   "nbconvert_exporter": "python",
   "pygments_lexer": "ipython2",
   "version": "2.7.13"
  }
 },
 "nbformat": 4,
 "nbformat_minor": 2
}
